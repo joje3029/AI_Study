{
 "cells": [
  {
   "cell_type": "code",
   "execution_count": null,
   "id": "d2b40a9d",
   "metadata": {},
   "outputs": [],
   "source": [
    "# 실습1\n",
    "# 뉴스의 링크를 넘기면 해당 뉴스의 댓글 통계 정보를 딕셔너리로 반환하는 함수 만들기\n",
    "\n",
    "# {'남자' : '68%', '여자' : '32%', '10대' : '1%', '20대' : '4%', '30대' : '17%',\n",
    "#  '40대' : '45%', '50대' : '26%', '60대' : '8%' }\n",
    "\n",
    "# 문제를 나누기\n",
    "# 뉴스의 링크를 넘긴다\n",
    "# 해당뉴스의 댓글 통계 정보를 추출해서 딕셔너리로 받는다.\n",
    "# joson으로 저장한다.\n",
    "# 근데 여기서 request+BeatifulSoup으로 했을때 [] 빈리스트 나옴 = 여기는 동적이라서 애들로 안됨."
   ]
  },
  {
   "cell_type": "code",
   "execution_count": 3,
   "id": "7f42e3cc",
   "metadata": {},
   "outputs": [],
   "source": [
    "# selenuim을 사용해보자!\n",
    "import selenium\n",
    "from selenium import webdriver\n",
    "from selenium.webdriver.common.by import By\n",
    "from selenium.webdriver.common.keys import Keys\n",
    "from selenium.webdriver.chrome.service import Service as ChromeService\n",
    "import time\n",
    "\n",
    "options = webdriver.ChromeOptions()\n",
    "options.add_experimental_option(\"excludeSwitches\", [\"enable-automation\"])\n",
    "options.add_experimental_option(\"useAutomationExtension\", False)\n",
    "options.add_argument('headless')\n",
    "service = ChromeService(executable_path='C:/Users/admin/psm/chromedriver-win64/chromedriver.exe')\n",
    "driver = webdriver.Chrome(service=service, options=options)\n",
    "\n",
    "driver.get('https://n.news.naver.com/article/087/0000995105?ntype=RANKING')\n",
    "time.sleep(10)\n",
    "chartDiv=driver.find_element(By.CLASS_NAME,'u_cbox_chart_cont')"
   ]
  },
  {
   "cell_type": "code",
   "execution_count": 4,
   "id": "5384a63c",
   "metadata": {},
   "outputs": [],
   "source": [
    "innerChart=chartDiv.find_element(By.CLASS_NAME,'u_cbox_chart_cont_inner')\n",
    "perNum=innerChart.find_elements(By.CLASS_NAME,'u_cbox_chart_per')\n",
    "names=innerChart.find_elements(By.CLASS_NAME,'u_cbox_chart_cnt')"
   ]
  },
  {
   "cell_type": "code",
   "execution_count": 9,
   "id": "4462ffd1",
   "metadata": {},
   "outputs": [
    {
     "data": {
      "text/plain": [
       "'60대↑'"
      ]
     },
     "execution_count": 9,
     "metadata": {},
     "output_type": "execute_result"
    }
   ],
   "source": [
    "names[-1].text"
   ]
  },
  {
   "cell_type": "code",
   "execution_count": null,
   "id": "1109dc6d",
   "metadata": {},
   "outputs": [],
   "source": []
  },
  {
   "cell_type": "code",
   "execution_count": null,
   "id": "75893b68",
   "metadata": {},
   "outputs": [],
   "source": []
  },
  {
   "cell_type": "code",
   "execution_count": null,
   "id": "bbe9e3c0",
   "metadata": {},
   "outputs": [],
   "source": []
  },
  {
   "cell_type": "code",
   "execution_count": null,
   "id": "b9417555",
   "metadata": {},
   "outputs": [],
   "source": []
  },
  {
   "cell_type": "code",
   "execution_count": null,
   "id": "bf6c848b",
   "metadata": {},
   "outputs": [],
   "source": []
  },
  {
   "cell_type": "code",
   "execution_count": null,
   "id": "51005564",
   "metadata": {},
   "outputs": [],
   "source": []
  },
  {
   "cell_type": "code",
   "execution_count": null,
   "id": "a1850c3e",
   "metadata": {},
   "outputs": [],
   "source": []
  },
  {
   "cell_type": "code",
   "execution_count": null,
   "id": "2fab157e",
   "metadata": {},
   "outputs": [],
   "source": []
  }
 ],
 "metadata": {
  "kernelspec": {
   "display_name": "Python 3 (ipykernel)",
   "language": "python",
   "name": "python3"
  },
  "language_info": {
   "codemirror_mode": {
    "name": "ipython",
    "version": 3
   },
   "file_extension": ".py",
   "mimetype": "text/x-python",
   "name": "python",
   "nbconvert_exporter": "python",
   "pygments_lexer": "ipython3",
   "version": "3.11.4"
  }
 },
 "nbformat": 4,
 "nbformat_minor": 5
}
