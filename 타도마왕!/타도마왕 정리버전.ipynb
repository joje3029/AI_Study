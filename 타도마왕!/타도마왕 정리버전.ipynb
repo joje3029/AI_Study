{
 "cells": [
  {
   "cell_type": "code",
   "execution_count": 1,
   "id": "c17f38d1",
   "metadata": {},
   "outputs": [],
   "source": [
    "import selenium\n",
    "from selenium import webdriver\n",
    "from selenium.webdriver.common.by import By\n",
    "from selenium.webdriver.common.keys import Keys\n",
    "from selenium.webdriver.chrome.service import Service as ChromeService\n",
    "import time\n",
    "\n",
    "options = webdriver.ChromeOptions()\n",
    "options.add_experimental_option(\"excludeSwitches\", [\"enable-automation\"])\n",
    "options.add_experimental_option(\"useAutomationExtension\", False)\n",
    "options.add_argument('headless')\n",
    "service = ChromeService(executable_path='C:/Users/admin/psm/chromedriver-win64/chromedriver.exe')\n",
    "driver = webdriver.Chrome(service=service, options=options)\n",
    "\n",
    "driver.get('https://n.news.naver.com/article/087/0000995105?ntype=RANKING')\n",
    "time.sleep(10)\n",
    "chartDiv=driver.find_element(By.CLASS_NAME,'u_cbox_chart_cont')"
   ]
  },
  {
   "cell_type": "code",
   "execution_count": 2,
   "id": "d4a9f634",
   "metadata": {},
   "outputs": [],
   "source": [
    "import selenium\n",
    "from selenium import webdriver\n",
    "from selenium.webdriver.common.by import By\n",
    "from selenium.webdriver.common.keys import Keys\n",
    "from selenium.webdriver.chrome.service import Service as ChromeService\n",
    "import time\n",
    "\n",
    "options = webdriver.ChromeOptions()\n",
    "options.add_experimental_option(\"excludeSwitches\", [\"enable-automation\"])\n",
    "options.add_experimental_option(\"useAutomationExtension\", False)\n",
    "options.add_argument('headless')\n",
    "service = ChromeService(executable_path='C:/Users/admin/psm/chromedriver-win64/chromedriver.exe')\n",
    "driver = webdriver.Chrome(service=service, options=options)\n",
    "\n",
    "\n",
    "import requests\n",
    "import news_util as ut\n",
    "\n",
    "\n",
    "\n",
    "## 파이썬이 브라우저인 척 하기 위함\n",
    "headers = {\n",
    "    'User-Agent' : 'Mozilla/5.0 (Windows NT 10.0; Win64; x64) AppleWebKit/537.36 (KHTML, like Gecko) Chrome/102.0.0.0 Safari/537.36'\n",
    "}\n",
    "\n",
    "r = requests.get('https://news.naver.com/main/ranking/popularDay.naver', headers=headers)\n",
    "\n",
    "test_rankingnews_page = r.text\n",
    "\n",
    "from bs4 import BeautifulSoup\n",
    "soup = BeautifulSoup(test_rankingnews_page, 'html.parser')\n",
    "# soup으로 r page parsing 되서 옴\n",
    "box_list = soup.select(\".rankingnews_box\")\n",
    "\n",
    "# 각 요소에서 'a' 태그 선택 : 사이트 링크\n",
    "a_tags = [box.select_one('a') for box in box_list]\n",
    "\n",
    "# key로 들어갈 언론사 이름 추출\n",
    "name_key = [a.select_one('.rankingnews_name').text for a in a_tags]\n",
    "\n",
    "company_dic = {}  # 'company_dic' 변수를 정의\n",
    "\n",
    "for a_tage in a_tags:\n",
    "    href = a_tage.get('href')\n",
    "    \n",
    "    # 'company_dic' 변수로 수정\n",
    "    company_dic.update(ut.ranking_news(driver, href))\n"
   ]
  },
  {
   "cell_type": "code",
   "execution_count": 3,
   "id": "4dcf4d2a",
   "metadata": {},
   "outputs": [
    {
     "name": "stdout",
     "output_type": "stream",
     "text": [
      "{}\n"
     ]
    }
   ],
   "source": [
    "print(company_dic)"
   ]
  },
  {
   "cell_type": "code",
   "execution_count": null,
   "id": "b0ae4805",
   "metadata": {},
   "outputs": [],
   "source": []
  },
  {
   "cell_type": "code",
   "execution_count": null,
   "id": "24162fe4",
   "metadata": {},
   "outputs": [],
   "source": []
  },
  {
   "cell_type": "code",
   "execution_count": null,
   "id": "9af2e681",
   "metadata": {},
   "outputs": [],
   "source": []
  },
  {
   "cell_type": "code",
   "execution_count": null,
   "id": "8c60f25b",
   "metadata": {},
   "outputs": [],
   "source": []
  },
  {
   "cell_type": "code",
   "execution_count": null,
   "id": "a6954e2d",
   "metadata": {},
   "outputs": [],
   "source": []
  },
  {
   "cell_type": "code",
   "execution_count": null,
   "id": "e39fa2ee",
   "metadata": {},
   "outputs": [],
   "source": []
  },
  {
   "cell_type": "code",
   "execution_count": null,
   "id": "ed5fe3eb",
   "metadata": {},
   "outputs": [],
   "source": []
  },
  {
   "cell_type": "code",
   "execution_count": null,
   "id": "5c1d3afe",
   "metadata": {},
   "outputs": [],
   "source": []
  },
  {
   "cell_type": "code",
   "execution_count": null,
   "id": "5977c28b",
   "metadata": {},
   "outputs": [],
   "source": []
  }
 ],
 "metadata": {
  "kernelspec": {
   "display_name": "Python 3 (ipykernel)",
   "language": "python",
   "name": "python3"
  },
  "language_info": {
   "codemirror_mode": {
    "name": "ipython",
    "version": 3
   },
   "file_extension": ".py",
   "mimetype": "text/x-python",
   "name": "python",
   "nbconvert_exporter": "python",
   "pygments_lexer": "ipython3",
   "version": "3.11.4"
  }
 },
 "nbformat": 4,
 "nbformat_minor": 5
}
