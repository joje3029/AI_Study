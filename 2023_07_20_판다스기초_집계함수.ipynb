{
  "nbformat": 4,
  "nbformat_minor": 0,
  "metadata": {
    "colab": {
      "provenance": [],
      "authorship_tag": "ABX9TyMQOY0AaYFOUs9PVR5qT8qw",
      "include_colab_link": true
    },
    "kernelspec": {
      "name": "python3",
      "display_name": "Python 3"
    },
    "language_info": {
      "name": "python"
    }
  },
  "cells": [
    {
      "cell_type": "markdown",
      "metadata": {
        "id": "view-in-github",
        "colab_type": "text"
      },
      "source": [
        "<a href=\"https://colab.research.google.com/github/joje3029/AI_Study/blob/main/2023_07_20_%ED%8C%90%EB%8B%A4%EC%8A%A4%EA%B8%B0%EC%B4%88_%EC%A7%91%EA%B3%84%ED%95%A8%EC%88%98.ipynb\" target=\"_parent\"><img src=\"https://colab.research.google.com/assets/colab-badge.svg\" alt=\"Open In Colab\"/></a>"
      ]
    },
    {
      "cell_type": "code",
      "source": [
        "import pandas as pd"
      ],
      "metadata": {
        "id": "tK22yaIHysym"
      },
      "execution_count": null,
      "outputs": []
    },
    {
      "cell_type": "code",
      "source": [
        "st1=pd.read_excel('/content/students.xlsx')\n",
        "df1=pd.read_excel('/content/거래내역조회.xlsx')"
      ],
      "metadata": {
        "id": "KoP113ywyw4e"
      },
      "execution_count": null,
      "outputs": []
    },
    {
      "cell_type": "code",
      "source": [
        "# 문제 5. 학생 성적데이터를 사용하여 풀어주세요.\n",
        "\n",
        "# 1. 각 지역별 국, 영, 수 평균\n",
        "st1['평균']=st1[['국어','영어','수학']].mean(axis=1)\n",
        "grouped=st1.groupby('지역명')['평균'].mean()\n",
        "grouped\n",
        "# 2. 가장 평균 성적이 좋은 도시는?\n",
        "topCity=grouped.idxmax()\n",
        "# 3. 생년월일에서 월별로 학생들의 수를 구해주세요.\n",
        "st1['생년월일']=st1['생년월일'].astype(str)\n",
        "st1['월일']=st1['생년월일'].str[5:7]\n",
        "month=st1.groupby('월일').size()\n",
        "month\n",
        "# 4. 각 지역별로 평균이 80점 넘는 학생의 수\n",
        "over=st1[st1['평균']>80]\n",
        "count=over.groupby('지역명').size()\n",
        "count\n",
        "# 5. 각 지역별 평균 점수가 80점 미만인 지역은?\n",
        "under=st1[st1['평균']<80]\n",
        "lowCity=under.groupby('지역명').idxmin()\n",
        "lowCity\n",
        "# 6. 각 지역에서 점수대별 학생수 현황(90점대, 80점대, 70점대, 60점대 등)\n",
        "st1.groupby('평균')['지역명'].size()\n",
        "# 7. 지역별 학생의 평균성적 top3\n"
      ],
      "metadata": {
        "colab": {
          "base_uri": "https://localhost:8080/"
        },
        "id": "a8dC7qG93U_v",
        "outputId": "4b3bc4fe-702d-4787-abf0-e793e4369f49"
      },
      "execution_count": null,
      "outputs": [
        {
          "output_type": "stream",
          "name": "stderr",
          "text": [
            "<ipython-input-65-1e73f4b3bdb8>:20: FutureWarning: The default value of numeric_only in DataFrameGroupBy.idxmin is deprecated. In a future version, numeric_only will default to False. Either specify numeric_only or select only columns which should be valid for the function.\n",
            "  lowCity=under.groupby('지역명').idxmin()\n"
          ]
        },
        {
          "output_type": "execute_result",
          "data": {
            "text/plain": [
              "평균\n",
              "62.333333    1\n",
              "65.000000    1\n",
              "66.666667    1\n",
              "68.000000    1\n",
              "68.666667    1\n",
              "69.666667    2\n",
              "70.333333    1\n",
              "70.666667    2\n",
              "71.000000    1\n",
              "71.333333    1\n",
              "71.666667    1\n",
              "72.000000    1\n",
              "72.666667    2\n",
              "73.333333    2\n",
              "73.666667    2\n",
              "74.666667    2\n",
              "75.333333    3\n",
              "75.666667    2\n",
              "76.000000    3\n",
              "76.333333    3\n",
              "76.666667    3\n",
              "77.000000    2\n",
              "77.333333    1\n",
              "77.666667    1\n",
              "78.000000    2\n",
              "78.333333    2\n",
              "78.666667    2\n",
              "79.333333    4\n",
              "79.666667    2\n",
              "80.000000    3\n",
              "80.333333    3\n",
              "80.666667    3\n",
              "81.000000    3\n",
              "81.666667    3\n",
              "82.000000    2\n",
              "82.333333    2\n",
              "82.666667    2\n",
              "83.000000    2\n",
              "83.333333    3\n",
              "83.666667    1\n",
              "84.333333    1\n",
              "84.666667    1\n",
              "85.333333    2\n",
              "85.666667    1\n",
              "87.000000    3\n",
              "88.333333    1\n",
              "88.666667    2\n",
              "89.666667    2\n",
              "90.333333    1\n",
              "90.666667    1\n",
              "91.000000    1\n",
              "91.333333    2\n",
              "92.000000    1\n",
              "92.333333    1\n",
              "94.333333    1\n",
              "Name: 지역명, dtype: int64"
            ]
          },
          "metadata": {},
          "execution_count": 65
        }
      ]
    }
  ]
}