{
  "nbformat": 4,
  "nbformat_minor": 0,
  "metadata": {
    "colab": {
      "provenance": [],
      "authorship_tag": "ABX9TyP53pLDY/8ld0JO+eJKa11K",
      "include_colab_link": true
    },
    "kernelspec": {
      "name": "python3",
      "display_name": "Python 3"
    },
    "language_info": {
      "name": "python"
    }
  },
  "cells": [
    {
      "cell_type": "markdown",
      "metadata": {
        "id": "view-in-github",
        "colab_type": "text"
      },
      "source": [
        "<a href=\"https://colab.research.google.com/github/joje3029/AI_Study/blob/main/2023_08_16_%EC%84%A0%ED%98%95%ED%9A%8C%EA%B7%80_%EC%A7%91%EA%B0%92%EC%98%88%EC%B8%A1.ipynb\" target=\"_parent\"><img src=\"https://colab.research.google.com/assets/colab-badge.svg\" alt=\"Open In Colab\"/></a>"
      ]
    },
    {
      "cell_type": "code",
      "execution_count": 31,
      "metadata": {
        "id": "dGil5Or2NufO"
      },
      "outputs": [],
      "source": [
        "import pandas as pd\n",
        "import matplotlib.pyplot as plt\n",
        "import seaborn as sns\n",
        "import numpy as np\n"
      ]
    },
    {
      "cell_type": "code",
      "source": [
        "# 데이터 로드\n",
        "house=pd.read_csv('/content/1553768847-housing.csv')"
      ],
      "metadata": {
        "id": "gVkS-CPuOHO9"
      },
      "execution_count": 32,
      "outputs": []
    },
    {
      "cell_type": "code",
      "source": [
        "# EDA\n",
        "## 결측치가 많거나 불필요한 컬럼은 걸러내 보자\n",
        "## 상관관계로 필요한거 솎아내보자\n",
        "## 이상치가 많아 보이는 컬럼은 체크해두자\n",
        "\n",
        "# house : longitude(경도)(float),\tlatitude(위도)(float),\thousing_median_age(주택 평균 연령)(int),\ttotal_rooms(총 방)(int),\ttotal_bedrooms(총 침실)(null)(float),\tpopulation(인구)(int),\thouseholds(가구)(int),\tmedian_income(중간 소득)(float),\tocean_proximity(바다 근접)(object),\tmedian_house_value(중간 집값)(int)\n",
        "house.info()"
      ],
      "metadata": {
        "colab": {
          "base_uri": "https://localhost:8080/"
        },
        "id": "POl-0Je9OVnX",
        "outputId": "269609c9-c196-4386-cf71-677018be443b"
      },
      "execution_count": 33,
      "outputs": [
        {
          "output_type": "stream",
          "name": "stdout",
          "text": [
            "<class 'pandas.core.frame.DataFrame'>\n",
            "RangeIndex: 20640 entries, 0 to 20639\n",
            "Data columns (total 10 columns):\n",
            " #   Column              Non-Null Count  Dtype  \n",
            "---  ------              --------------  -----  \n",
            " 0   longitude           20640 non-null  float64\n",
            " 1   latitude            20640 non-null  float64\n",
            " 2   housing_median_age  20640 non-null  int64  \n",
            " 3   total_rooms         20640 non-null  int64  \n",
            " 4   total_bedrooms      20433 non-null  float64\n",
            " 5   population          20640 non-null  int64  \n",
            " 6   households          20640 non-null  int64  \n",
            " 7   median_income       20640 non-null  float64\n",
            " 8   ocean_proximity     20640 non-null  object \n",
            " 9   median_house_value  20640 non-null  int64  \n",
            "dtypes: float64(4), int64(5), object(1)\n",
            "memory usage: 1.6+ MB\n"
          ]
        }
      ]
    },
    {
      "cell_type": "code",
      "source": [
        "## 이상치 존재 여부 확인 -> IQR\n",
        "\n",
        "Q1=house.quantile(0.25) #1분위 값\n",
        "Q3=house.quantile(0.75) #3분위 값\n",
        "\n",
        "IQR = Q3-Q1 #IQR\n",
        "\n",
        "hightest = Q3+IQR*1.5 #상한선 계산\n",
        "lowest = Q3-IQR*1.5 #하한선 계산\n",
        "\n"
      ],
      "metadata": {
        "id": "UWiFWBDcOVrv",
        "colab": {
          "base_uri": "https://localhost:8080/"
        },
        "outputId": "f6566146-6e4c-4fc4-fd47-19a64f362f5a"
      },
      "execution_count": 34,
      "outputs": [
        {
          "output_type": "stream",
          "name": "stderr",
          "text": [
            "<ipython-input-34-dd13a18201ed>:3: FutureWarning: The default value of numeric_only in DataFrame.quantile is deprecated. In a future version, it will default to False. Select only valid columns or specify the value of numeric_only to silence this warning.\n",
            "  Q1=house.quantile(0.25) #1분위 값\n",
            "<ipython-input-34-dd13a18201ed>:4: FutureWarning: The default value of numeric_only in DataFrame.quantile is deprecated. In a future version, it will default to False. Select only valid columns or specify the value of numeric_only to silence this warning.\n",
            "  Q3=house.quantile(0.75) #3분위 값\n"
          ]
        }
      ]
    },
    {
      "cell_type": "code",
      "source": [
        "## 위경도를 이용한 산점도 그리기\n",
        "sns.scatterplot(x=\"longitude\", y=\"latitude\", data=house)\n",
        "plt.title(\"위경도 산점도\")\n",
        "plt.show()"
      ],
      "metadata": {
        "id": "IlZRRZduklje"
      },
      "execution_count": null,
      "outputs": []
    },
    {
      "cell_type": "code",
      "source": [
        "## 집값(median_house_value)과 다른 변수의 상관관계 확인 -> 히트맵 사용 : 타입 object 가 있으므로 카테고리값 변환/결측치 one-hot 인코딩 등을 해야함.\n",
        "# sns.heatmap(data=house, annot=True, cmap=\"coolwarm\", linewidths=.5) -> 여기서는 원핫 인코딩을 하는게 좋을듯"
      ],
      "metadata": {
        "id": "Aiy1S_dBkuDn"
      },
      "execution_count": 36,
      "outputs": []
    },
    {
      "cell_type": "code",
      "source": [
        "## 위도(longitude) 경도(latitude)를 이용해 산점도로 위치와 집값의 관계 시각적으로 확인\n",
        "sns.scatterplot(data=house, x='longitude', y='latitude', hue='median_house_value')"
      ],
      "metadata": {
        "id": "YIggM4a0oRp9"
      },
      "execution_count": null,
      "outputs": []
    },
    {
      "cell_type": "code",
      "source": [
        "# 데이터 전처리\n",
        "## 결측치 처리\n",
        "notnull_house=house.dropna()\n",
        "notnull_house.info()"
      ],
      "metadata": {
        "id": "2e4D-9PJOVvq"
      },
      "execution_count": null,
      "outputs": []
    },
    {
      "cell_type": "code",
      "source": [
        "## 이상치 처리\n",
        "# notnull_house.describe()\n",
        "\n",
        "# 수치형 데이터와 범주형 데이터 분리\n",
        "# 수치형 데이터\n",
        "int_house=notnull_house.drop(columns='ocean_proximity')\n",
        "\n",
        "# 범주형 데이터\n",
        "object_house=notnull_house['ocean_proximity']\n"
      ],
      "metadata": {
        "id": "E_ZV_5s1piFl"
      },
      "execution_count": null,
      "outputs": []
    },
    {
      "cell_type": "code",
      "source": [
        "## 수치형 데이터\n",
        "### 표준화\n",
        "from sklearn.preprocessing import StandardScaler\n",
        "scalar= StandardScaler()\n",
        "\n",
        "standardised_data=scalar.fit_transform(int_house)\n",
        "int_house2=pd.DataFrame(standardised_data, columns=int_house.columns).reset_index()\n",
        "int_house2"
      ],
      "metadata": {
        "id": "hVDSw-VLoveC"
      },
      "execution_count": null,
      "outputs": []
    },
    {
      "cell_type": "code",
      "source": [
        "## 범주형 데이터\n",
        "### 원핫인코딩\n",
        "object_house2=pd.get_dummies(object_house).reset_index()\n",
        "object_house2"
      ],
      "metadata": {
        "id": "3ieFZjfKqdwc"
      },
      "execution_count": null,
      "outputs": []
    },
    {
      "cell_type": "code",
      "source": [
        "# 범주형이랑 수치형 합치기\n",
        "new_house=pd.concat([int_house2,object_house2], axis=1)\n",
        "new_house"
      ],
      "metadata": {
        "id": "qBFQxFLgr-dS"
      },
      "execution_count": null,
      "outputs": []
    },
    {
      "cell_type": "code",
      "source": [
        "# 학습 데이터와 정답 데이터 분리\n",
        "train=new_house.drop(columns='median_house_value')\n",
        "\n",
        "test=new_house['median_house_value']\n",
        "\n",
        "from sklearn.model_selection import train_test_split\n",
        "\n",
        "trd, tsd, trt, tst = train_test_split(train, test, train_size=0.8, random_state=42)\n",
        "print(trd.shape, tsd.shape)"
      ],
      "metadata": {
        "colab": {
          "base_uri": "https://localhost:8080/"
        },
        "id": "NM5IXIBBtsC8",
        "outputId": "ecfb6805-5bfe-42d8-a7c6-9d33308a1fc2"
      },
      "execution_count": 77,
      "outputs": [
        {
          "output_type": "stream",
          "name": "stdout",
          "text": [
            "(16346, 15) (4087, 15)\n"
          ]
        }
      ]
    },
    {
      "cell_type": "code",
      "source": [
        "# 학습\n",
        "## 선형회귀를 이용하여 모델 학습 : from sklearn.linear_model import LinearRegression 이거 사용\n",
        "from sklearn.linear_model import LinearRegression\n",
        "\n",
        "lr=LinearRegression()\n",
        "\n",
        "lr.fit(trd,trt)"
      ],
      "metadata": {
        "id": "ZfYPAOijOVzJ",
        "colab": {
          "base_uri": "https://localhost:8080/",
          "height": 75
        },
        "outputId": "df332d6b-04e4-4346-a49b-5a3430873869"
      },
      "execution_count": 81,
      "outputs": [
        {
          "output_type": "execute_result",
          "data": {
            "text/plain": [
              "LinearRegression()"
            ],
            "text/html": [
              "<style>#sk-container-id-1 {color: black;background-color: white;}#sk-container-id-1 pre{padding: 0;}#sk-container-id-1 div.sk-toggleable {background-color: white;}#sk-container-id-1 label.sk-toggleable__label {cursor: pointer;display: block;width: 100%;margin-bottom: 0;padding: 0.3em;box-sizing: border-box;text-align: center;}#sk-container-id-1 label.sk-toggleable__label-arrow:before {content: \"▸\";float: left;margin-right: 0.25em;color: #696969;}#sk-container-id-1 label.sk-toggleable__label-arrow:hover:before {color: black;}#sk-container-id-1 div.sk-estimator:hover label.sk-toggleable__label-arrow:before {color: black;}#sk-container-id-1 div.sk-toggleable__content {max-height: 0;max-width: 0;overflow: hidden;text-align: left;background-color: #f0f8ff;}#sk-container-id-1 div.sk-toggleable__content pre {margin: 0.2em;color: black;border-radius: 0.25em;background-color: #f0f8ff;}#sk-container-id-1 input.sk-toggleable__control:checked~div.sk-toggleable__content {max-height: 200px;max-width: 100%;overflow: auto;}#sk-container-id-1 input.sk-toggleable__control:checked~label.sk-toggleable__label-arrow:before {content: \"▾\";}#sk-container-id-1 div.sk-estimator input.sk-toggleable__control:checked~label.sk-toggleable__label {background-color: #d4ebff;}#sk-container-id-1 div.sk-label input.sk-toggleable__control:checked~label.sk-toggleable__label {background-color: #d4ebff;}#sk-container-id-1 input.sk-hidden--visually {border: 0;clip: rect(1px 1px 1px 1px);clip: rect(1px, 1px, 1px, 1px);height: 1px;margin: -1px;overflow: hidden;padding: 0;position: absolute;width: 1px;}#sk-container-id-1 div.sk-estimator {font-family: monospace;background-color: #f0f8ff;border: 1px dotted black;border-radius: 0.25em;box-sizing: border-box;margin-bottom: 0.5em;}#sk-container-id-1 div.sk-estimator:hover {background-color: #d4ebff;}#sk-container-id-1 div.sk-parallel-item::after {content: \"\";width: 100%;border-bottom: 1px solid gray;flex-grow: 1;}#sk-container-id-1 div.sk-label:hover label.sk-toggleable__label {background-color: #d4ebff;}#sk-container-id-1 div.sk-serial::before {content: \"\";position: absolute;border-left: 1px solid gray;box-sizing: border-box;top: 0;bottom: 0;left: 50%;z-index: 0;}#sk-container-id-1 div.sk-serial {display: flex;flex-direction: column;align-items: center;background-color: white;padding-right: 0.2em;padding-left: 0.2em;position: relative;}#sk-container-id-1 div.sk-item {position: relative;z-index: 1;}#sk-container-id-1 div.sk-parallel {display: flex;align-items: stretch;justify-content: center;background-color: white;position: relative;}#sk-container-id-1 div.sk-item::before, #sk-container-id-1 div.sk-parallel-item::before {content: \"\";position: absolute;border-left: 1px solid gray;box-sizing: border-box;top: 0;bottom: 0;left: 50%;z-index: -1;}#sk-container-id-1 div.sk-parallel-item {display: flex;flex-direction: column;z-index: 1;position: relative;background-color: white;}#sk-container-id-1 div.sk-parallel-item:first-child::after {align-self: flex-end;width: 50%;}#sk-container-id-1 div.sk-parallel-item:last-child::after {align-self: flex-start;width: 50%;}#sk-container-id-1 div.sk-parallel-item:only-child::after {width: 0;}#sk-container-id-1 div.sk-dashed-wrapped {border: 1px dashed gray;margin: 0 0.4em 0.5em 0.4em;box-sizing: border-box;padding-bottom: 0.4em;background-color: white;}#sk-container-id-1 div.sk-label label {font-family: monospace;font-weight: bold;display: inline-block;line-height: 1.2em;}#sk-container-id-1 div.sk-label-container {text-align: center;}#sk-container-id-1 div.sk-container {/* jupyter's `normalize.less` sets `[hidden] { display: none; }` but bootstrap.min.css set `[hidden] { display: none !important; }` so we also need the `!important` here to be able to override the default hidden behavior on the sphinx rendered scikit-learn.org. See: https://github.com/scikit-learn/scikit-learn/issues/21755 */display: inline-block !important;position: relative;}#sk-container-id-1 div.sk-text-repr-fallback {display: none;}</style><div id=\"sk-container-id-1\" class=\"sk-top-container\"><div class=\"sk-text-repr-fallback\"><pre>LinearRegression()</pre><b>In a Jupyter environment, please rerun this cell to show the HTML representation or trust the notebook. <br />On GitHub, the HTML representation is unable to render, please try loading this page with nbviewer.org.</b></div><div class=\"sk-container\" hidden><div class=\"sk-item\"><div class=\"sk-estimator sk-toggleable\"><input class=\"sk-toggleable__control sk-hidden--visually\" id=\"sk-estimator-id-1\" type=\"checkbox\" checked><label for=\"sk-estimator-id-1\" class=\"sk-toggleable__label sk-toggleable__label-arrow\">LinearRegression</label><div class=\"sk-toggleable__content\"><pre>LinearRegression()</pre></div></div></div></div></div>"
            ]
          },
          "metadata": {},
          "execution_count": 81
        }
      ]
    },
    {
      "cell_type": "code",
      "source": [
        "# 평가\n",
        "## 학습한 모델을 평가하기\n",
        "lr.score(tsd, tst)"
      ],
      "metadata": {
        "id": "IWRgKYiZOV3E",
        "colab": {
          "base_uri": "https://localhost:8080/"
        },
        "outputId": "e8bcbb3b-168a-4fe7-cb42-35eef48b2fd6"
      },
      "execution_count": 82,
      "outputs": [
        {
          "output_type": "execute_result",
          "data": {
            "text/plain": [
              "0.6536462120329367"
            ]
          },
          "metadata": {},
          "execution_count": 82
        }
      ]
    },
    {
      "cell_type": "code",
      "source": [],
      "metadata": {
        "id": "nKVYZ5ivOV67"
      },
      "execution_count": 40,
      "outputs": []
    },
    {
      "cell_type": "code",
      "source": [],
      "metadata": {
        "id": "y1cXYfrJOV-0"
      },
      "execution_count": 40,
      "outputs": []
    }
  ]
}