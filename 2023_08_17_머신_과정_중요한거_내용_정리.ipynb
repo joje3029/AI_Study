{
  "nbformat": 4,
  "nbformat_minor": 0,
  "metadata": {
    "colab": {
      "provenance": [],
      "authorship_tag": "ABX9TyPQ/C5SENVcITpTyTPHOr6J",
      "include_colab_link": true
    },
    "kernelspec": {
      "name": "python3",
      "display_name": "Python 3"
    },
    "language_info": {
      "name": "python"
    }
  },
  "cells": [
    {
      "cell_type": "markdown",
      "metadata": {
        "id": "view-in-github",
        "colab_type": "text"
      },
      "source": [
        "<a href=\"https://colab.research.google.com/github/joje3029/AI_Study/blob/main/2023_08_17_%EB%A8%B8%EC%8B%A0_%EA%B3%BC%EC%A0%95_%EC%A4%91%EC%9A%94%ED%95%9C%EA%B1%B0_%EB%82%B4%EC%9A%A9_%EC%A0%95%EB%A6%AC.ipynb\" target=\"_parent\"><img src=\"https://colab.research.google.com/assets/colab-badge.svg\" alt=\"Open In Colab\"/></a>"
      ]
    },
    {
      "cell_type": "code",
      "source": [
        "import pandas as pd"
      ],
      "metadata": {
        "id": "GMbamo-U7ZiD"
      },
      "execution_count": null,
      "outputs": []
    },
    {
      "cell_type": "code",
      "source": [
        "# 1.데이터 로드\n",
        "fish=pd.read_csv('/content/Fish.csv')"
      ],
      "metadata": {
        "id": "PJfyl1HAA0C6"
      },
      "execution_count": null,
      "outputs": []
    },
    {
      "cell_type": "code",
      "source": [
        "# 2.탐색적 분석\n",
        "fish.info()"
      ],
      "metadata": {
        "colab": {
          "base_uri": "https://localhost:8080/"
        },
        "id": "oDqDUwKZA8mz",
        "outputId": "ccac3d3c-5ebd-4f14-8882-d370c3037279"
      },
      "execution_count": null,
      "outputs": [
        {
          "output_type": "stream",
          "name": "stdout",
          "text": [
            "<class 'pandas.core.frame.DataFrame'>\n",
            "RangeIndex: 159 entries, 0 to 158\n",
            "Data columns (total 7 columns):\n",
            " #   Column   Non-Null Count  Dtype  \n",
            "---  ------   --------------  -----  \n",
            " 0   Species  159 non-null    object \n",
            " 1   Weight   159 non-null    float64\n",
            " 2   Length1  159 non-null    float64\n",
            " 3   Length2  159 non-null    float64\n",
            " 4   Length3  159 non-null    float64\n",
            " 5   Height   159 non-null    float64\n",
            " 6   Width    159 non-null    float64\n",
            "dtypes: float64(6), object(1)\n",
            "memory usage: 8.8+ KB\n"
          ]
        }
      ]
    },
    {
      "cell_type": "code",
      "source": [
        "# 회귀-> 수치예측\n",
        "# 길이-> 무게 예측\n",
        "\n",
        "train=fish[['Length1']] #학습용 데이터는 무조건 2차원\n",
        "target=fish['Weight']"
      ],
      "metadata": {
        "id": "KxDadFT_B-Jm"
      },
      "execution_count": null,
      "outputs": []
    },
    {
      "cell_type": "code",
      "source": [
        "from sklearn.model_selection import train_test_split\n",
        "\n",
        "trd, tsd, trt, tst=train_test_split(train, target, train_size=0.8, random_state=42)"
      ],
      "metadata": {
        "id": "hwQpfq_hB2tC"
      },
      "execution_count": null,
      "outputs": []
    },
    {
      "cell_type": "code",
      "source": [
        "from sklearn.preprocessing import StandardScaler\n",
        "\n",
        "ss=StandardScaler() # 표준화 변환기\n",
        "\n",
        "ss.fit(trd) # 표준화 대상 그룹\n",
        "s_trd=ss.transform(trd)\n",
        "s_tsd=ss.transform(tsd) # ss.transform(trd)를 하면 학습한거랑 이거랑 안맞아서 난리남\n"
      ],
      "metadata": {
        "id": "BTq4kEtDClau"
      },
      "execution_count": null,
      "outputs": []
    },
    {
      "cell_type": "code",
      "source": [
        "from sklearn.neighbors import KNeighborsRegressor\n",
        "\n",
        "knr=KNeighborsRegressor()\n",
        "knr.fit(s_trd,trt)\n",
        "knr.score(s_trd,trt), knr.score(s_tsd, tst)"
      ],
      "metadata": {
        "colab": {
          "base_uri": "https://localhost:8080/"
        },
        "id": "H4oO1zjgCbsW",
        "outputId": "8d73fcef-09a3-48e1-c2b3-5834fe2bcc82"
      },
      "execution_count": null,
      "outputs": [
        {
          "output_type": "execute_result",
          "data": {
            "text/plain": [
              "(0.8990070574826468, 0.8265656636696015)"
            ]
          },
          "metadata": {},
          "execution_count": 40
        }
      ]
    },
    {
      "cell_type": "code",
      "source": [
        "from sklearn.linear_model import LinearRegression\n",
        "\n",
        "lr=LinearRegression()\n",
        "lr.fit(s_trd,trt)\n",
        "lr.score(s_trd,trt),lr.score(s_tsd,tst)"
      ],
      "metadata": {
        "colab": {
          "base_uri": "https://localhost:8080/"
        },
        "id": "-P62lbHCLf07",
        "outputId": "53bf236e-f9be-440a-8c75-183fa7346b36"
      },
      "execution_count": null,
      "outputs": [
        {
          "output_type": "execute_result",
          "data": {
            "text/plain": [
              "(0.844170424366534, 0.8116084146869397)"
            ]
          },
          "metadata": {},
          "execution_count": 44
        }
      ]
    },
    {
      "cell_type": "code",
      "source": [
        "#  성능을 더 올리기 위한 방법 중. 피처엔지니어링.\n",
        "# 1. 다중회귀\n",
        "one_train=fish[['Length1',\t'Length2',\t'Length3',\t'Height',\t'Width']]\n",
        "one_target=fish['Weight']\n"
      ],
      "metadata": {
        "id": "QImRwj2LBjnh"
      },
      "execution_count": null,
      "outputs": []
    },
    {
      "cell_type": "code",
      "source": [
        "from sklearn.model_selection import train_test_split\n",
        "mtrd, mtsd, mtrt, mtst= train_test_split(one_train,one_target, train_size=0.8, random_state=42)\n"
      ],
      "metadata": {
        "id": "GADv6ESjMu02"
      },
      "execution_count": null,
      "outputs": []
    },
    {
      "cell_type": "code",
      "source": [
        "from sklearn.preprocessing import StandardScaler\n",
        "ss2 =StandardScaler()\n",
        "\n",
        "ss2.fit(mtrd)\n",
        "s_mtrd = ss2.transform(mtrd)\n",
        "s_mtsd = ss2.transform(mtsd)"
      ],
      "metadata": {
        "id": "1Y2aNEBYNIzs"
      },
      "execution_count": null,
      "outputs": []
    },
    {
      "cell_type": "code",
      "source": [
        "from sklearn.linear_model import LinearRegression\n",
        "lr2=LinearRegression()\n",
        "lr2.fit(s_mtrd, mtrt)\n",
        "lr2.score(s_mtrd, mtrt), lr2.score(s_mtsd, mtst)"
      ],
      "metadata": {
        "colab": {
          "base_uri": "https://localhost:8080/"
        },
        "id": "hNQxcH-5N2Eq",
        "outputId": "b778457f-3e17-498b-ed3b-2b89dc45615b"
      },
      "execution_count": null,
      "outputs": [
        {
          "output_type": "execute_result",
          "data": {
            "text/plain": [
              "(0.883887896537022, 0.8821430593048696)"
            ]
          },
          "metadata": {},
          "execution_count": 61
        }
      ]
    },
    {
      "cell_type": "code",
      "source": [
        "# 2.다항회귀\n",
        "one_train['Length1**2']=one_train['Length1']**2"
      ],
      "metadata": {
        "colab": {
          "base_uri": "https://localhost:8080/"
        },
        "id": "9TmqZaHAO31j",
        "outputId": "4fdccfcd-d006-4df6-edd2-99432016ea69"
      },
      "execution_count": null,
      "outputs": [
        {
          "output_type": "stream",
          "name": "stderr",
          "text": [
            "<ipython-input-64-7ae40b96cf4b>:2: SettingWithCopyWarning: \n",
            "A value is trying to be set on a copy of a slice from a DataFrame.\n",
            "Try using .loc[row_indexer,col_indexer] = value instead\n",
            "\n",
            "See the caveats in the documentation: https://pandas.pydata.org/pandas-docs/stable/user_guide/indexing.html#returning-a-view-versus-a-copy\n",
            "  one_train['Length1**2']=one_train['Length1']**2\n"
          ]
        }
      ]
    },
    {
      "cell_type": "code",
      "source": [
        "# 위에서 split에 대한 import를 해서 여기서는 안해도 됨.\n",
        "mtrd, mtsd, mtrt, mtst= train_test_split(one_train,one_target, train_size=0.8, random_state=42)"
      ],
      "metadata": {
        "id": "6XghReAkPMr3"
      },
      "execution_count": null,
      "outputs": []
    },
    {
      "cell_type": "code",
      "source": [
        "from sklearn.preprocessing import StandardScaler\n",
        "ss2 =StandardScaler()\n",
        "\n",
        "ss2.fit(mtrd)\n",
        "s_mtrd = ss2.transform(mtrd)\n",
        "s_mtsd = ss2.transform(mtsd)"
      ],
      "metadata": {
        "id": "MU3wZLZMPZYY"
      },
      "execution_count": null,
      "outputs": []
    },
    {
      "cell_type": "code",
      "source": [
        "from sklearn.linear_model import LinearRegression\n",
        "lr2=LinearRegression()\n",
        "lr2.fit(s_mtrd, mtrt)\n",
        "lr2.score(s_mtrd, mtrt), lr2.score(s_mtsd, mtst)"
      ],
      "metadata": {
        "colab": {
          "base_uri": "https://localhost:8080/"
        },
        "id": "RhihT1T2PeY3",
        "outputId": "b8e3873c-126b-4333-a43f-ec793129929a"
      },
      "execution_count": null,
      "outputs": [
        {
          "output_type": "execute_result",
          "data": {
            "text/plain": [
              "(0.9750960624198775, 0.9580598715114026)"
            ]
          },
          "metadata": {},
          "execution_count": 67
        }
      ]
    },
    {
      "cell_type": "markdown",
      "source": [
        "피처엔지니어링(특성 공학)\n",
        "피처(특성) == 컬럼\n",
        "다항회귀+다중회귀를 같이쓰는것을 말함.\n",
        "니놈이 뭔짓을 하든 score가 올라가고 실제로 썼을때 문제 없으면 오케. 활용은 무궁무진!!"
      ],
      "metadata": {
        "id": "fEK3N9vQBuOL"
      }
    },
    {
      "cell_type": "markdown",
      "source": [
        "## 이후 성능을 더 올리기 위해 할 수 있는 것\n",
        "### 1. 데이터 추가 : 가장 힘든 방법.\n",
        "### 2. 추가적인 데이터 처리\n",
        "### 3. 피처 엔지니어링(컬럼 조합, 다항식 적용) : 한국어로 특성공학\n",
        "### 4. 하이퍼 파라미터 튜닝(알고리즘에 관여하는 파라미터를 조정. 알고리즘 원리를 이해해야 함)\n",
        "### 5. 위 방법으로도 성능이 올라가지 않으면 다른 알고리즘을 고민"
      ],
      "metadata": {
        "id": "CQ9p4wExBUg1"
      }
    },
    {
      "cell_type": "markdown",
      "source": [
        "과정 이거는 떠올릴수 있을정도로 연습해야함\n",
        "# 1.데이터 로드\n",
        "# 2.탐색적 분석\n",
        "# 3. 데이터 전처리\n",
        "# 4.인코딩\n",
        "# 5.학습데이터/테스트 데이터 분리\n",
        "# 6.표준화\n",
        "# 7.학습\n",
        "# 8.평가"
      ],
      "metadata": {
        "id": "bIQUQhqWBIjr"
      }
    },
    {
      "cell_type": "markdown",
      "source": [
        "1. 특성을 여러개 선택\n",
        "다중회귀 -> 특성을 여러개(2개 이상) 사용\n",
        "다중회귀가 일반 회귀보다 더 잘나옴.\n",
        "\n",
        "2.다항회귀->항의 차수를 높이는 방법\n",
        "주의 : 특성(칼럼)이 로우 대비 너무 많으면 오히려 성능이 하락하는 차원의 저주가 발생"
      ],
      "metadata": {
        "id": "D8cuSNHSE0XZ"
      }
    },
    {
      "cell_type": "markdown",
      "source": [
        "scaler을 split하기 전에 하면 안됨! 왜냐면 scaler를 하고 split을 하면 학습 데이터에 테스트 데이터의 정보가 아주 약간 포함됨. 그래서 테스트 결과는 잘 나오나 실제로 사용했을때 개판일 확률이 높음.\n"
      ],
      "metadata": {
        "id": "Vh-VGSgBI2bV"
      }
    },
    {
      "cell_type": "markdown",
      "source": [
        "# 하이퍼파라미터 튜닝\n",
        "\n",
        "#"
      ],
      "metadata": {
        "id": "sKOQYGKwZGlE"
      }
    }
  ]
}