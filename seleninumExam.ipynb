{
 "cells": [
  {
   "cell_type": "code",
   "execution_count": 125,
   "id": "00389a0d",
   "metadata": {},
   "outputs": [
    {
     "name": "stdout",
     "output_type": "stream",
     "text": [
      "Requirement already satisfied: selenium in c:\\programdata\\anaconda3\\lib\\site-packages (4.12.0)\n",
      "Requirement already satisfied: trio~=0.17 in c:\\programdata\\anaconda3\\lib\\site-packages (from selenium) (0.22.2)\n",
      "Requirement already satisfied: trio-websocket~=0.9 in c:\\programdata\\anaconda3\\lib\\site-packages (from selenium) (0.10.4)\n",
      "Requirement already satisfied: urllib3[socks]<3,>=1.26 in c:\\programdata\\anaconda3\\lib\\site-packages (from selenium) (1.26.11)\n",
      "Requirement already satisfied: certifi>=2021.10.8 in c:\\programdata\\anaconda3\\lib\\site-packages (from selenium) (2022.9.14)\n",
      "Requirement already satisfied: attrs>=20.1.0 in c:\\programdata\\anaconda3\\lib\\site-packages (from trio~=0.17->selenium) (21.4.0)\n",
      "Requirement already satisfied: sortedcontainers in c:\\programdata\\anaconda3\\lib\\site-packages (from trio~=0.17->selenium) (2.4.0)\n",
      "Requirement already satisfied: sniffio in c:\\programdata\\anaconda3\\lib\\site-packages (from trio~=0.17->selenium) (1.2.0)\n",
      "Requirement already satisfied: outcome in c:\\programdata\\anaconda3\\lib\\site-packages (from trio~=0.17->selenium) (1.2.0)\n",
      "Requirement already satisfied: cffi>=1.14 in c:\\programdata\\anaconda3\\lib\\site-packages (from trio~=0.17->selenium) (1.15.1)\n",
      "Requirement already satisfied: exceptiongroup>=1.0.0rc9 in c:\\programdata\\anaconda3\\lib\\site-packages (from trio~=0.17->selenium) (1.1.3)\n",
      "Requirement already satisfied: idna in c:\\programdata\\anaconda3\\lib\\site-packages (from trio~=0.17->selenium) (3.3)\n",
      "Requirement already satisfied: wsproto>=0.14 in c:\\programdata\\anaconda3\\lib\\site-packages (from trio-websocket~=0.9->selenium) (1.2.0)\n",
      "Requirement already satisfied: PySocks!=1.5.7,<2.0,>=1.5.6 in c:\\programdata\\anaconda3\\lib\\site-packages (from urllib3[socks]<3,>=1.26->selenium) (1.7.1)\n",
      "Requirement already satisfied: pycparser in c:\\programdata\\anaconda3\\lib\\site-packages (from cffi>=1.14->trio~=0.17->selenium) (2.21)\n",
      "Requirement already satisfied: h11<1,>=0.9.0 in c:\\programdata\\anaconda3\\lib\\site-packages (from wsproto>=0.14->trio-websocket~=0.9->selenium) (0.14.0)\n",
      "Requirement already satisfied: requests in c:\\programdata\\anaconda3\\lib\\site-packages (2.28.1)\n",
      "Requirement already satisfied: charset-normalizer<3,>=2 in c:\\programdata\\anaconda3\\lib\\site-packages (from requests) (2.0.4)\n",
      "Requirement already satisfied: certifi>=2017.4.17 in c:\\programdata\\anaconda3\\lib\\site-packages (from requests) (2022.9.14)\n",
      "Requirement already satisfied: idna<4,>=2.5 in c:\\programdata\\anaconda3\\lib\\site-packages (from requests) (3.3)\n",
      "Requirement already satisfied: urllib3<1.27,>=1.21.1 in c:\\programdata\\anaconda3\\lib\\site-packages (from requests) (1.26.11)\n",
      "Requirement already satisfied: bs4 in c:\\programdata\\anaconda3\\lib\\site-packages (0.0.1)\n",
      "Requirement already satisfied: beautifulsoup4 in c:\\programdata\\anaconda3\\lib\\site-packages (from bs4) (4.11.1)\n",
      "Requirement already satisfied: soupsieve>1.2 in c:\\programdata\\anaconda3\\lib\\site-packages (from beautifulsoup4->bs4) (2.3.1)\n"
     ]
    }
   ],
   "source": [
    "!pip install selenium\n",
    "!pip install requests\n",
    "!pip install bs4"
   ]
  },
  {
   "cell_type": "code",
   "execution_count": 126,
   "id": "2400b8b2",
   "metadata": {},
   "outputs": [],
   "source": [
    "import requests\n",
    "import selenium\n",
    "from bs4 import BeautifulSoup"
   ]
  },
  {
   "cell_type": "code",
   "execution_count": 127,
   "id": "44e2cac8",
   "metadata": {},
   "outputs": [],
   "source": [
    "import selenium\n",
    "from selenium import webdriver\n",
    "from selenium.webdriver.common.by import By\n",
    "from selenium.webdriver.common.keys import Keys\n",
    "from selenium.webdriver.chrome.service import Service as ChromeService\n",
    "import time\n",
    "\n",
    "options = webdriver.ChromeOptions()\n",
    "options.add_experimental_option(\"excludeSwitches\", [\"enable-automation\"])\n",
    "options.add_experimental_option(\"useAutomationExtension\", False)\n",
    "options.add_argument('headless')\n",
    "service = ChromeService(executable_path='C:/Users/Administrator/somin/diriver/chromedriver.exe')\n",
    "driver = webdriver.Chrome(service=service, options=options)\n",
    "\n",
    "driver.get(\"http://www.python.org\")\n",
    "assert \"Python\" in driver.title\n",
    "elem = driver.find_element(By.NAME, \"q\")\n",
    "elem.clear()\n",
    "elem.send_keys(\"pycon\")\n",
    "elem.send_keys(Keys.RETURN)\n",
    "# assert \"No results found.\" not in driver.page_source\n",
    "driver.close()    "
   ]
  },
  {
   "cell_type": "code",
   "execution_count": 128,
   "id": "d333d5cd",
   "metadata": {},
   "outputs": [],
   "source": [
    "import selenium\n",
    "from selenium import webdriver\n",
    "from selenium.webdriver.common.by import By\n",
    "from selenium.webdriver.common.keys import Keys\n",
    "from selenium.webdriver.chrome.service import Service as ChromeService\n",
    "import time\n",
    "\n",
    "options = webdriver.ChromeOptions()\n",
    "options.add_experimental_option(\"excludeSwitches\", [\"enable-automation\"])\n",
    "options.add_experimental_option(\"useAutomationExtension\", False)\n",
    "# options.add_argument('headless')\n",
    "service = ChromeService(executable_path='C:/Users/Administrator/somin/diriver/chromedriver.exe')\n",
    "driver = webdriver.Chrome(service=service, options=options)\n",
    "driver.get('https://news.naver.com/main/ranking/popularDay.naver')\n",
    "\n",
    "card_div=driver.find_element(By.CLASS_NAME,'_officeCard0')\n",
    "box=card_div.find_element(By.CLASS_NAME,'rankingnews_box')\n",
    "aTag=box.find_element(By.TAG_NAME,'a')\n",
    "aTag.click()\n",
    "\n",
    "# 페이지 전환 이후 다시 driver를 이용해 탐색\n",
    "button = driver.find_element(By.CLASS_NAME,'button_date_prev')\n",
    "\n",
    "# 뉴스 제목, 링크\n"
   ]
  },
  {
   "cell_type": "code",
   "execution_count": null,
   "id": "2173904b",
   "metadata": {},
   "outputs": [],
   "source": [
    "# driver.find_element() : 요소 찾는 명령어 -> 한개만 가져오는 거\n",
    "# dirver.find_elements() : 요소 찾는 명령어 -> 여러개 가져오는거\n",
    "# dirver / elem / page\n",
    "# 1. 태그 이름. -> By.TAG_NAME\n",
    "# 2. 클래스 이름 -> By.CLASS_NANE\n",
    "# 3.아이디 이름 -> BY.ID"
   ]
  },
  {
   "cell_type": "code",
   "execution_count": 17,
   "id": "34652370",
   "metadata": {},
   "outputs": [],
   "source": [
    "# 네이버 목요 웹툰 가져와 보기"
   ]
  },
  {
   "cell_type": "code",
   "execution_count": 129,
   "id": "6aa87a82",
   "metadata": {},
   "outputs": [],
   "source": [
    "import selenium\n",
    "from selenium import webdriver\n",
    "from selenium.webdriver.common.by import By\n",
    "from selenium.webdriver.common.keys import Keys\n",
    "from selenium.webdriver.chrome.service import Service as ChromeService\n",
    "import time\n",
    "\n",
    "options = webdriver.ChromeOptions()\n",
    "options.add_experimental_option(\"excludeSwitches\", [\"enable-automation\"])\n",
    "options.add_experimental_option(\"useAutomationExtension\", False)\n",
    "# options.add_argument('headless')\n",
    "service = ChromeService(executable_path='C:/Users/Administrator/somin/diriver/chromedriver.exe')\n",
    "driver = webdriver.Chrome(service=service, options=options)\n",
    "\n",
    "driver.get('https://comic.naver.com/index')"
   ]
  },
  {
   "cell_type": "code",
   "execution_count": 130,
   "id": "bad83599",
   "metadata": {},
   "outputs": [],
   "source": [
    "menu=driver.find_element(By.ID,'menu')\n",
    "\n",
    "webLI=menu.find_elements(By.TAG_NAME,'li')\n",
    "\n",
    "aTag=webLI[1].find_element(By.TAG_NAME,'a')\n",
    "aTag.click()"
   ]
  },
  {
   "cell_type": "code",
   "execution_count": 131,
   "id": "15a541fe",
   "metadata": {},
   "outputs": [],
   "source": [
    "snbNav=driver.find_element(By.CLASS_NAME,'snb_nav')\n",
    "liList=snbNav.find_elements(By.CLASS_NAME,'SubNavigationBar__item--tmE0E')\n",
    "aTag=liList[4].find_element(By.TAG_NAME,'a')\n",
    "aTag.click()"
   ]
  },
  {
   "cell_type": "code",
   "execution_count": 132,
   "id": "529d245a",
   "metadata": {},
   "outputs": [],
   "source": [
    "contentDiv=driver.find_element(By.ID,'content')\n",
    "wrapDiv=contentDiv.find_element(By.CLASS_NAME,'component_wrap')\n",
    "ulList=wrapDiv.find_element(By.CLASS_NAME,'ContentList__content_list--q5KXY')\n",
    "itemList=ulList.find_element(By.CLASS_NAME,'item')\n",
    "itemDiv=itemList.find_element(By.CLASS_NAME,'ContentList__info_area--bXx7h')\n",
    "# 웹툰 이름 작가 별점 가져오기\n",
    "aList=itemDiv.find_elements(By.TAG_NAME,'a')\n",
    "ratDiv=itemDiv.find_element(By.TAG_NAME,'div')\n",
    "rate_score=ratDiv.find_element(By.CLASS_NAME,'text')"
   ]
  },
  {
   "cell_type": "code",
   "execution_count": 136,
   "id": "87eea1df",
   "metadata": {},
   "outputs": [
    {
     "name": "stdout",
     "output_type": "stream",
     "text": [
      "[{'title': '선천적 얼간이들', 'writer': '가스파드', 'score': '9.95'}, {'title': '신혼일기', 'writer': '자까', 'score': '9.91'}, {'title': '앞집나리', 'writer': '민송아', 'score': '9.93'}, {'title': '나노마신', 'writer': '현절무 / 금강불괴 / 한중월야', 'score': '9.90'}, {'title': '촉법소년', 'writer': '박태준 만화회사, 남자의 이야기 / 정종택', 'score': '9.88'}, {'title': '재벌집 막내아들', 'writer': 'JP / 김병관 / 산경(山景)', 'score': '9.97'}, {'title': '남편을 죽여줘요', 'writer': '이연, 칸트웍스 / 구물', 'score': '9.96'}, {'title': '무사만리행', 'writer': '운 / 배민기', 'score': '9.93'}, {'title': '현실퀘스트', 'writer': '이주운 / 태성', 'score': '9.82'}, {'title': '마도귀환록', 'writer': '팀 더 제이 / MISANG / 한유림', 'score': '9.80'}, {'title': '정글쥬스', 'writer': '형은 / 쥬더', 'score': '9.95'}, {'title': '나 혼자 네크로맨서', 'writer': '김경열 / 김동준 / 지점장', 'score': '9.94'}, {'title': '뮤즈 온 유명', 'writer': '수진', 'score': '9.96'}, {'title': '네이처맨', 'writer': '이윤창', 'score': '9.97'}, {'title': '맛집', 'writer': '밍규 / 드로잉창고', 'score': '9.63'}, {'title': '내향남녀', 'writer': '나', 'score': '9.97'}, {'title': '사내연애 사절!', 'writer': '두부 / 남수', 'score': '9.94'}, {'title': 'ㅋㅋ단편.zip', 'writer': '네이버웹툰 작가', 'score': '9.74'}, {'title': '별을 삼킨 너에게', 'writer': 'ARI', 'score': '9.93'}, {'title': '순정빌런', 'writer': '세윤', 'score': '9.98'}, {'title': '가족같은 XX', 'writer': '서우현', 'score': '9.94'}, {'title': '보스였음', 'writer': '럭스', 'score': '9.93'}, {'title': '게임 속 바바리안으로 살아남기', 'writer': '한태수 / MIDNIGHT STUDIO / 정윤강', 'score': '9.94'}, {'title': '내가 사랑한 물고기', 'writer': '우주봄봄 / 부발', 'score': '9.93'}, {'title': '비서 일탈', 'writer': '솔방울 / 꿀봉이 / 반지영', 'score': '9.97'}, {'title': '특수청소', 'writer': '한(恨)', 'score': '9.82'}, {'title': '일립예고 학생들', 'writer': '백본', 'score': '9.98'}, {'title': '쿠베라', 'writer': '카레곰', 'score': '9.96'}, {'title': '국세청 망나니', 'writer': '스튜디오웨이브 / 동면거북이', 'score': '9.92'}, {'title': '최강전설 강해효', 'writer': '최병열', 'score': '9.59'}, {'title': '시한부 천재 암흑기사', 'writer': '정선율 / 나기', 'score': '9.39'}, {'title': '흑막 여주가 날 새엄마로 만들려고 해', 'writer': '이산시 / 하리힌 / 목감기', 'score': '9.97'}, {'title': '꽃만 키우는데 너무강함', 'writer': '주현후 / 쿰타타', 'score': '9.97'}, {'title': '천마육성', 'writer': '광휘 / 조형근', 'score': '9.91'}, {'title': '던전 씹어먹는 아티팩트', 'writer': '엄키 / 제로워터', 'score': '9.92'}, {'title': '마왕까지 한 걸음', 'writer': '윤홍', 'score': '9.97'}, {'title': '트롤트랩', 'writer': '유비', 'score': '9.91'}, {'title': '루루라라 우리네 인생', 'writer': '현이씨', 'score': '9.96'}, {'title': '게임 최강 트롤러', 'writer': '박종석 / YATO / 군만두먹자', 'score': '9.88'}, {'title': '완벽한 결혼의 정석', 'writer': '영 / 제리볼 / 이범배', 'score': '9.85'}, {'title': '이게 웬 떡', 'writer': '박쓰담', 'score': '9.94'}, {'title': '네가 죽기를 바랄 때가 있었다', 'writer': '기매 / 아란 / 진서', 'score': '9.94'}, {'title': '서울밤피어', 'writer': '송지형', 'score': '9.92'}, {'title': '마법사랑해', 'writer': '명랑 / 청설모', 'score': '9.97'}, {'title': '돈내놔', 'writer': '은류 / 도늑', 'score': '8.32'}, {'title': 'SPT - 박쥐의 시간', 'writer': '김보통 / 본인', 'score': '9.79'}, {'title': '만능잡캐', 'writer': '홍실, 키보드만세 / 김대훈', 'score': '9.86'}, {'title': '오만의 시대', 'writer': '팀 코모도 / 한솔 / 레몬개구리', 'score': '9.94'}, {'title': '해시의 신루', 'writer': '명랑 / INUS / 윤이수', 'score': '9.97'}, {'title': '여친을 찾아서', 'writer': '뻥 / 타로맨', 'score': '9.84'}, {'title': '웨폰 크리에이터', 'writer': '서태랑 / 강재', 'score': '9.42'}, {'title': '당신의 그림자를 그만두었을 때', 'writer': '봉이 / 유성 / Rana', 'score': '9.97'}, {'title': '이상한 변호사 우영우', 'writer': '원프로젝트 / 화음조, 이예지', 'score': '6.98'}, {'title': '위대한 겸상', 'writer': '홍치', 'score': '9.85'}, {'title': '킬더킹', 'writer': '마사토끼 / joana', 'score': '9.69'}, {'title': '썩은 핑크의 법칙', 'writer': '힙합신선', 'score': '9.97'}, {'title': '쌍둥이 영애가 남장을 하는 이유', 'writer': '아마미야 레이 / M N', 'score': '9.85'}, {'title': '괴물의 바다', 'writer': '삼칠', 'score': '9.59'}, {'title': '누나! 나 무서워', 'writer': '디귿', 'score': '9.88'}, {'title': '그 악룡은 무엇을 위해 사는가', 'writer': '호나란 / 마누비 / 레몬개구리', 'score': '9.95'}, {'title': '코인 리벤지', 'writer': '박성현', 'score': '9.88'}, {'title': '갓트', 'writer': '서패스 / 아거주누', 'score': '9.91'}, {'title': 'THE 런웨이', 'writer': '도미 / 녹두 / Hirachell', 'score': '9.82'}, {'title': '나의 불편한 상사', 'writer': '탄지 / 남은경 / 이다홍', 'score': '9.82'}, {'title': '휴재\\n이러면 안 돼요, 전하!', 'writer': '안진애 / 우라노스 / 최아리', 'score': '9.96'}, {'title': '엔딩, 바꿔보려합니다', 'writer': '모카빵', 'score': '9.96'}, {'title': '케찰코아틀 - 다빗', 'writer': 'd몬', 'score': '9.95'}, {'title': '달의 요람', 'writer': '이정선', 'score': '4.20'}, {'title': '불쌍해야 하는 남자', 'writer': '윤병', 'score': '9.67'}, {'title': '만물의 영장', 'writer': '보민', 'score': '9.96'}, {'title': '35cm', 'writer': '홍가', 'score': '9.51'}, {'title': '휴재\\n독거미', 'writer': '신진우 / 홍순식', 'score': '9.71'}, {'title': '너와 XX', 'writer': '뉸', 'score': '9.85'}, {'title': '잘못된 연애', 'writer': '파키타리', 'score': '8.60'}, {'title': '휴재\\n규격 외 혈통 천재', 'writer': 'ZAINO / 클로버 / 소울풍', 'score': '9.87'}, {'title': '아빠같은 남자', 'writer': '이수민', 'score': '9.81'}, {'title': '따개비', 'writer': '뜰새 / delete / 레고밟았어', 'score': '8.85'}, {'title': '미라주', 'writer': '박대혁', 'score': '9.02'}, {'title': '3X3!', 'writer': '만능유자차', 'score': '9.97'}, {'title': '나쁜 마법사의 꿈', 'writer': '이아거', 'score': '9.06'}, {'title': '휴재\\n순수한 동거생활', 'writer': '성은 / 플아다', 'score': '9.93'}, {'title': '휴재\\n사기 친 공작님을 유혹해버렸다', 'writer': 'T.Heimdallr / 쥐똥새똥', 'score': '9.94'}, {'title': '이 주길럼의 전장', 'writer': '김세훈', 'score': '9.18'}, {'title': '휴재\\n가상&RPG', 'writer': '주다현', 'score': '9.90'}, {'title': '카루나', 'writer': '강호진', 'score': '9.82'}, {'title': '배트맨: 웨인 패밀리 어드벤처', 'writer': 'CRC Payne / StarBite', 'score': '9.82'}, {'title': '올빼미와 여름 하늘', 'writer': 'WmW / 레베카 설리번', 'score': '9.80'}, {'title': '유월의 소한', 'writer': '윤정민', 'score': '9.48'}, {'title': '권리행사자', 'writer': '샤이탄', 'score': '9.77'}, {'title': '사랑하는 여배우들', 'writer': '고나리자 / 수정', 'score': '9.95'}, {'title': '보물과 괴물의 도시', 'writer': '이을', 'score': '9.95'}, {'title': '휴재\\n베니루 BAENIRU', 'writer': '우지금', 'score': '9.90'}, {'title': '휴재\\n황제사냥', 'writer': 'KAN', 'score': '9.95'}, {'title': '휴재\\n아인슈페너', 'writer': '한끼룩', 'score': '9.94'}]\n"
     ]
    }
   ],
   "source": [
    "# 챗 GPT가 맞게 수정한 버전\n",
    "from selenium import webdriver\n",
    "from selenium.webdriver.common.by import By\n",
    "from selenium.webdriver.support.ui import WebDriverWait\n",
    "from selenium.webdriver.support import expected_conditions as EC\n",
    "\n",
    "# 웹툰 페이지로 이동\n",
    "driver.get('https://comic.naver.com/webtoon?tab=thu')\n",
    "\n",
    "# dic에 넣는 함수 만듦\n",
    "def get_webtoon_element(page):\n",
    "    contentDiv = driver.find_element(By.ID, 'content')\n",
    "    \n",
    "    web_list = []\n",
    "    \n",
    "    # wrapDiv, ulList, itemList 등을 찾을 때 find_element 대신 find_elements를 사용\n",
    "    wrapDiv = contentDiv.find_element(By.CLASS_NAME, 'component_wrap')\n",
    "    ulList = wrapDiv.find_element(By.CLASS_NAME, 'ContentList__content_list--q5KXY')\n",
    "    itemList = ulList.find_elements(By.CLASS_NAME, 'item')  # 복수 요소를 찾기 위해 find_elements 사용\n",
    "    \n",
    "    for item in itemList:\n",
    "        itemDiv = item.find_element(By.CLASS_NAME, 'ContentList__info_area--bXx7h')\n",
    "        # 웹툰 이름 작가 별점 가져오기\n",
    "        aList = itemDiv.find_elements(By.TAG_NAME, 'a')  # 복수 요소를 찾기 위해 find_elements 사용\n",
    "        title = aList[0].text  # .text 속성을 사용하여 텍스트 가져오기\n",
    "        writer = aList[1].text\n",
    "        \n",
    "#         # rate_score 요소를 대기하면서 찾기\n",
    "#         rateDiv = WebDriverWait(itemDiv, 10).until(\n",
    "#             EC.presence_of_element_located((By.CLASS_NAME, 'text'))\n",
    "#         )\n",
    "        rateArea=itemDiv.find_elements(By.CLASS_NAME,'rating_area')\n",
    "#         rateDiv=rateArea.find_elements(By.CLASS_NAME,'text')\n",
    "        rateDiv = rateArea[0].find_element(By.CLASS_NAME, 'text')\n",
    "\n",
    "        rate_score = rateDiv.text  # .text 속성을 사용하여 텍스트 가져오기\n",
    "        \n",
    "        web_dic = {\n",
    "            'title': title,\n",
    "            'writer': writer,\n",
    "            'score': rate_score\n",
    "        }\n",
    "        \n",
    "        web_list.append(web_dic)\n",
    "    \n",
    "    return web_list\n",
    "\n",
    "webtoon_list = get_webtoon_element(driver.page_source)  # driver.page_source로 현재 페이지의 HTML 소스를 전달\n",
    "print(webtoon_list)\n",
    "\n",
    "# 웹 드라이버 종료\n",
    "driver.quit()\n"
   ]
  },
  {
   "cell_type": "code",
   "execution_count": null,
   "id": "1b2cd4c6",
   "metadata": {},
   "outputs": [],
   "source": []
  },
  {
   "cell_type": "code",
   "execution_count": null,
   "id": "8bde59c0",
   "metadata": {},
   "outputs": [],
   "source": [
    "# 가져온거 json으로 저장"
   ]
  },
  {
   "cell_type": "code",
   "execution_count": 137,
   "id": "a7f6dcfd",
   "metadata": {},
   "outputs": [
    {
     "name": "stdout",
     "output_type": "stream",
     "text": [
      "Webtoon list saved to C:/Users/Administrator/somin/new_folder\\webtoon_list.json\n"
     ]
    }
   ],
   "source": [
    "import os\n",
    "import json\n",
    "\n",
    "# 새로운 폴더 생성\n",
    "folder_path = \"C:/Users/Administrator/somin/new_folder\"\n",
    "if not os.path.exists(folder_path):\n",
    "    os.mkdir(folder_path)\n",
    "\n",
    "# webtoon_list를 JSON 파일로 저장\n",
    "json_file_path = os.path.join(folder_path, \"webtoon_list.json\")\n",
    "with open(json_file_path, \"w\", encoding=\"utf-8\") as json_file:\n",
    "    json.dump(webtoon_list, json_file, ensure_ascii=False, indent=4)\n",
    "\n",
    "print(f\"Webtoon list saved to {json_file_path}\")\n"
   ]
  },
  {
   "cell_type": "code",
   "execution_count": 138,
   "id": "d3cb1d48",
   "metadata": {},
   "outputs": [],
   "source": [
    "# ## json.load -> JSON파일 => 딕셔너리\n",
    "# with open('C:/Users/Administrator/somin/new_folder/webtoon_list.json', 'r') as f :\n",
    "#   dic = json.load(f)\n",
    "\n",
    "import json\n",
    "\n",
    "# JSON 파일을 읽어서 딕셔너리로 저장\n",
    "with open('C:/Users/Administrator/somin/new_folder/webtoon_list.json', 'r', encoding='utf-8') as f:\n",
    "    dic = json.load(f)\n",
    "\n",
    "# 이제 dic 변수에는 JSON 파일의 내용이 딕셔너리 형식으로 저장되어 있습니다.\n",
    "\n"
   ]
  },
  {
   "cell_type": "code",
   "execution_count": 139,
   "id": "ee5814d4",
   "metadata": {},
   "outputs": [
    {
     "name": "stdout",
     "output_type": "stream",
     "text": [
      "[{'title': '선천적 얼간이들', 'writer': '가스파드', 'score': '9.95'}, {'title': '신혼일기', 'writer': '자까', 'score': '9.91'}, {'title': '앞집나리', 'writer': '민송아', 'score': '9.93'}, {'title': '나노마신', 'writer': '현절무 / 금강불괴 / 한중월야', 'score': '9.90'}, {'title': '촉법소년', 'writer': '박태준 만화회사, 남자의 이야기 / 정종택', 'score': '9.88'}, {'title': '재벌집 막내아들', 'writer': 'JP / 김병관 / 산경(山景)', 'score': '9.97'}, {'title': '남편을 죽여줘요', 'writer': '이연, 칸트웍스 / 구물', 'score': '9.96'}, {'title': '무사만리행', 'writer': '운 / 배민기', 'score': '9.93'}, {'title': '현실퀘스트', 'writer': '이주운 / 태성', 'score': '9.82'}, {'title': '마도귀환록', 'writer': '팀 더 제이 / MISANG / 한유림', 'score': '9.80'}, {'title': '정글쥬스', 'writer': '형은 / 쥬더', 'score': '9.95'}, {'title': '나 혼자 네크로맨서', 'writer': '김경열 / 김동준 / 지점장', 'score': '9.94'}, {'title': '뮤즈 온 유명', 'writer': '수진', 'score': '9.96'}, {'title': '네이처맨', 'writer': '이윤창', 'score': '9.97'}, {'title': '맛집', 'writer': '밍규 / 드로잉창고', 'score': '9.63'}, {'title': '내향남녀', 'writer': '나', 'score': '9.97'}, {'title': '사내연애 사절!', 'writer': '두부 / 남수', 'score': '9.94'}, {'title': 'ㅋㅋ단편.zip', 'writer': '네이버웹툰 작가', 'score': '9.74'}, {'title': '별을 삼킨 너에게', 'writer': 'ARI', 'score': '9.93'}, {'title': '순정빌런', 'writer': '세윤', 'score': '9.98'}, {'title': '가족같은 XX', 'writer': '서우현', 'score': '9.94'}, {'title': '보스였음', 'writer': '럭스', 'score': '9.93'}, {'title': '게임 속 바바리안으로 살아남기', 'writer': '한태수 / MIDNIGHT STUDIO / 정윤강', 'score': '9.94'}, {'title': '내가 사랑한 물고기', 'writer': '우주봄봄 / 부발', 'score': '9.93'}, {'title': '비서 일탈', 'writer': '솔방울 / 꿀봉이 / 반지영', 'score': '9.97'}, {'title': '특수청소', 'writer': '한(恨)', 'score': '9.82'}, {'title': '일립예고 학생들', 'writer': '백본', 'score': '9.98'}, {'title': '쿠베라', 'writer': '카레곰', 'score': '9.96'}, {'title': '국세청 망나니', 'writer': '스튜디오웨이브 / 동면거북이', 'score': '9.92'}, {'title': '최강전설 강해효', 'writer': '최병열', 'score': '9.59'}, {'title': '시한부 천재 암흑기사', 'writer': '정선율 / 나기', 'score': '9.39'}, {'title': '흑막 여주가 날 새엄마로 만들려고 해', 'writer': '이산시 / 하리힌 / 목감기', 'score': '9.97'}, {'title': '꽃만 키우는데 너무강함', 'writer': '주현후 / 쿰타타', 'score': '9.97'}, {'title': '천마육성', 'writer': '광휘 / 조형근', 'score': '9.91'}, {'title': '던전 씹어먹는 아티팩트', 'writer': '엄키 / 제로워터', 'score': '9.92'}, {'title': '마왕까지 한 걸음', 'writer': '윤홍', 'score': '9.97'}, {'title': '트롤트랩', 'writer': '유비', 'score': '9.91'}, {'title': '루루라라 우리네 인생', 'writer': '현이씨', 'score': '9.96'}, {'title': '게임 최강 트롤러', 'writer': '박종석 / YATO / 군만두먹자', 'score': '9.88'}, {'title': '완벽한 결혼의 정석', 'writer': '영 / 제리볼 / 이범배', 'score': '9.85'}, {'title': '이게 웬 떡', 'writer': '박쓰담', 'score': '9.94'}, {'title': '네가 죽기를 바랄 때가 있었다', 'writer': '기매 / 아란 / 진서', 'score': '9.94'}, {'title': '서울밤피어', 'writer': '송지형', 'score': '9.92'}, {'title': '마법사랑해', 'writer': '명랑 / 청설모', 'score': '9.97'}, {'title': '돈내놔', 'writer': '은류 / 도늑', 'score': '8.32'}, {'title': 'SPT - 박쥐의 시간', 'writer': '김보통 / 본인', 'score': '9.79'}, {'title': '만능잡캐', 'writer': '홍실, 키보드만세 / 김대훈', 'score': '9.86'}, {'title': '오만의 시대', 'writer': '팀 코모도 / 한솔 / 레몬개구리', 'score': '9.94'}, {'title': '해시의 신루', 'writer': '명랑 / INUS / 윤이수', 'score': '9.97'}, {'title': '여친을 찾아서', 'writer': '뻥 / 타로맨', 'score': '9.84'}, {'title': '웨폰 크리에이터', 'writer': '서태랑 / 강재', 'score': '9.42'}, {'title': '당신의 그림자를 그만두었을 때', 'writer': '봉이 / 유성 / Rana', 'score': '9.97'}, {'title': '이상한 변호사 우영우', 'writer': '원프로젝트 / 화음조, 이예지', 'score': '6.98'}, {'title': '위대한 겸상', 'writer': '홍치', 'score': '9.85'}, {'title': '킬더킹', 'writer': '마사토끼 / joana', 'score': '9.69'}, {'title': '썩은 핑크의 법칙', 'writer': '힙합신선', 'score': '9.97'}, {'title': '쌍둥이 영애가 남장을 하는 이유', 'writer': '아마미야 레이 / M N', 'score': '9.85'}, {'title': '괴물의 바다', 'writer': '삼칠', 'score': '9.59'}, {'title': '누나! 나 무서워', 'writer': '디귿', 'score': '9.88'}, {'title': '그 악룡은 무엇을 위해 사는가', 'writer': '호나란 / 마누비 / 레몬개구리', 'score': '9.95'}, {'title': '코인 리벤지', 'writer': '박성현', 'score': '9.88'}, {'title': '갓트', 'writer': '서패스 / 아거주누', 'score': '9.91'}, {'title': 'THE 런웨이', 'writer': '도미 / 녹두 / Hirachell', 'score': '9.82'}, {'title': '나의 불편한 상사', 'writer': '탄지 / 남은경 / 이다홍', 'score': '9.82'}, {'title': '휴재\\n이러면 안 돼요, 전하!', 'writer': '안진애 / 우라노스 / 최아리', 'score': '9.96'}, {'title': '엔딩, 바꿔보려합니다', 'writer': '모카빵', 'score': '9.96'}, {'title': '케찰코아틀 - 다빗', 'writer': 'd몬', 'score': '9.95'}, {'title': '달의 요람', 'writer': '이정선', 'score': '4.20'}, {'title': '불쌍해야 하는 남자', 'writer': '윤병', 'score': '9.67'}, {'title': '만물의 영장', 'writer': '보민', 'score': '9.96'}, {'title': '35cm', 'writer': '홍가', 'score': '9.51'}, {'title': '휴재\\n독거미', 'writer': '신진우 / 홍순식', 'score': '9.71'}, {'title': '너와 XX', 'writer': '뉸', 'score': '9.85'}, {'title': '잘못된 연애', 'writer': '파키타리', 'score': '8.60'}, {'title': '휴재\\n규격 외 혈통 천재', 'writer': 'ZAINO / 클로버 / 소울풍', 'score': '9.87'}, {'title': '아빠같은 남자', 'writer': '이수민', 'score': '9.81'}, {'title': '따개비', 'writer': '뜰새 / delete / 레고밟았어', 'score': '8.85'}, {'title': '미라주', 'writer': '박대혁', 'score': '9.02'}, {'title': '3X3!', 'writer': '만능유자차', 'score': '9.97'}, {'title': '나쁜 마법사의 꿈', 'writer': '이아거', 'score': '9.06'}, {'title': '휴재\\n순수한 동거생활', 'writer': '성은 / 플아다', 'score': '9.93'}, {'title': '휴재\\n사기 친 공작님을 유혹해버렸다', 'writer': 'T.Heimdallr / 쥐똥새똥', 'score': '9.94'}, {'title': '이 주길럼의 전장', 'writer': '김세훈', 'score': '9.18'}, {'title': '휴재\\n가상&RPG', 'writer': '주다현', 'score': '9.90'}, {'title': '카루나', 'writer': '강호진', 'score': '9.82'}, {'title': '배트맨: 웨인 패밀리 어드벤처', 'writer': 'CRC Payne / StarBite', 'score': '9.82'}, {'title': '올빼미와 여름 하늘', 'writer': 'WmW / 레베카 설리번', 'score': '9.80'}, {'title': '유월의 소한', 'writer': '윤정민', 'score': '9.48'}, {'title': '권리행사자', 'writer': '샤이탄', 'score': '9.77'}, {'title': '사랑하는 여배우들', 'writer': '고나리자 / 수정', 'score': '9.95'}, {'title': '보물과 괴물의 도시', 'writer': '이을', 'score': '9.95'}, {'title': '휴재\\n베니루 BAENIRU', 'writer': '우지금', 'score': '9.90'}, {'title': '휴재\\n황제사냥', 'writer': 'KAN', 'score': '9.95'}, {'title': '휴재\\n아인슈페너', 'writer': '한끼룩', 'score': '9.94'}]\n"
     ]
    }
   ],
   "source": [
    "print(dic)"
   ]
  },
  {
   "cell_type": "code",
   "execution_count": 111,
   "id": "f5ac9d2f",
   "metadata": {},
   "outputs": [],
   "source": [
    "# 실습1 : 뉴스의 링크를 넘기면 해당 뉴스의 댓글 통계 정보를 딕셔녀리로 반환하는 함수 만들기\n",
    "\n",
    "# {'남자' : '68%', '여자' : '32%', '10대' : '1%', '20대' : '4%', '30대' : '17%',\n",
    "#  '40대' : '45%', '50대' : '26%', '60대' : '8%' }\n",
    "\n",
    "import selenium\n",
    "from selenium import webdriver\n",
    "from selenium.webdriver.common.by import By\n",
    "from selenium.webdriver.common.keys import Keys\n",
    "from selenium.webdriver.chrome.service import Service as ChromeService\n",
    "import time\n",
    "\n",
    "options = webdriver.ChromeOptions()\n",
    "options.add_experimental_option(\"excludeSwitches\", [\"enable-automation\"])\n",
    "options.add_experimental_option(\"useAutomationExtension\", False)\n",
    "options.add_argument('headless')\n",
    "service = ChromeService(executable_path='C:/Users/Administrator/somin/diriver/chromedriver.exe')\n",
    "driver = webdriver.Chrome(service=service, options=options)\n",
    "\n",
    "driver.get('https://n.news.naver.com/article/018/0005568958?ntype=RANKING')\n",
    "# 페이지 로딩을 위해 충분한 시간을 주는 대기\n",
    "time.sleep(5)\n",
    "chart_element = driver.find_element(By.CLASS_NAME, 'u_cbox_chart_cont')\n",
    "name=chart_element.find_elements(By.CLASS_NAME, 'u_cbox_chart_cnt')"
   ]
  },
  {
   "cell_type": "code",
   "execution_count": null,
   "id": "7c7f3bc5",
   "metadata": {},
   "outputs": [],
   "source": []
  },
  {
   "cell_type": "code",
   "execution_count": null,
   "id": "ead55b2a",
   "metadata": {},
   "outputs": [],
   "source": []
  },
  {
   "cell_type": "code",
   "execution_count": null,
   "id": "4045beec",
   "metadata": {},
   "outputs": [],
   "source": []
  },
  {
   "cell_type": "code",
   "execution_count": null,
   "id": "7b28e42e",
   "metadata": {},
   "outputs": [],
   "source": []
  },
  {
   "cell_type": "code",
   "execution_count": null,
   "id": "efb506dd",
   "metadata": {},
   "outputs": [],
   "source": []
  },
  {
   "cell_type": "code",
   "execution_count": null,
   "id": "936b640d",
   "metadata": {},
   "outputs": [],
   "source": []
  },
  {
   "cell_type": "code",
   "execution_count": 113,
   "id": "b0fe795b",
   "metadata": {},
   "outputs": [],
   "source": []
  },
  {
   "cell_type": "code",
   "execution_count": null,
   "id": "f0738619",
   "metadata": {},
   "outputs": [],
   "source": []
  }
 ],
 "metadata": {
  "kernelspec": {
   "display_name": "Python 3 (ipykernel)",
   "language": "python",
   "name": "python3"
  },
  "language_info": {
   "codemirror_mode": {
    "name": "ipython",
    "version": 3
   },
   "file_extension": ".py",
   "mimetype": "text/x-python",
   "name": "python",
   "nbconvert_exporter": "python",
   "pygments_lexer": "ipython3",
   "version": "3.9.13"
  }
 },
 "nbformat": 4,
 "nbformat_minor": 5
}
